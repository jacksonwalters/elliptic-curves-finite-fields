{
 "cells": [
  {
   "cell_type": "code",
   "execution_count": 54,
   "id": "7217a94f",
   "metadata": {},
   "outputs": [],
   "source": [
    "E=EllipticCurve([0,0,0,1,1])"
   ]
  },
  {
   "cell_type": "code",
   "execution_count": 55,
   "id": "af8261d4",
   "metadata": {},
   "outputs": [
    {
     "data": {
      "text/plain": [
       "1"
      ]
     },
     "execution_count": 55,
     "metadata": {},
     "output_type": "execute_result"
    }
   ],
   "source": [
    "E.rank()"
   ]
  },
  {
   "cell_type": "code",
   "execution_count": 56,
   "id": "22beae19",
   "metadata": {},
   "outputs": [
    {
     "data": {
      "text/plain": [
       "[(0 : 1 : 0)]"
      ]
     },
     "execution_count": 56,
     "metadata": {},
     "output_type": "execute_result"
    }
   ],
   "source": [
    "E.torsion_points()"
   ]
  },
  {
   "cell_type": "code",
   "execution_count": 57,
   "id": "403e6cfa",
   "metadata": {},
   "outputs": [],
   "source": [
    "#curve is not smooth over F_2, so not elliptic\n",
    "#E2=EllipticCurve(GF(2), [0,0,0,1,1])"
   ]
  },
  {
   "cell_type": "code",
   "execution_count": 58,
   "id": "67a55a67",
   "metadata": {},
   "outputs": [],
   "source": [
    "#we can still compute the number of points over extensions F_2. \n",
    "#let's compute for fields where the exponent m of 2^m divides the exponent n of 2^n\n",
    "#find points of curve over extensions of F_2^1, e.g. F_2^2=4, F_2^4=16, F_2^5=32\n",
    "def g(x,y):\n",
    "    return y^2-x^3+x+1"
   ]
  },
  {
   "cell_type": "code",
   "execution_count": 59,
   "id": "fe71f528",
   "metadata": {},
   "outputs": [
    {
     "data": {
      "text/plain": [
       "a"
      ]
     },
     "execution_count": 59,
     "metadata": {},
     "output_type": "execute_result"
    }
   ],
   "source": [
    "#arithmetic over field extensions of F_2\n",
    "P.<x> = PolynomialRing(GF(2))\n",
    "f = x^3 + x + 1 # Fano Polynomial\n",
    "k.<a> = GF(2^3, modulus=f)\n",
    "k.modulus()\n",
    "x^3+x+1\n",
    "a^(2^3)"
   ]
  },
  {
   "cell_type": "code",
   "execution_count": 60,
   "id": "62f41bc9",
   "metadata": {},
   "outputs": [
    {
     "data": {
      "text/plain": [
       "[1, 1, 2, 2, 0, 1, a^2, a^2 + a, a^2 + 1]"
      ]
     },
     "execution_count": 60,
     "metadata": {},
     "output_type": "execute_result"
    }
   ],
   "source": [
    "#find zeros of f(x,y) over degree 3 field extension F_8 of F_2 \\isom F_2[x]/(x^3+x+1)\n",
    "[g(0,0),g(1,0),g(0,1),g(1,1),g(a,0),g(a,1),g(a,a),g(a,a^2),g(a,a^3)]"
   ]
  },
  {
   "cell_type": "code",
   "execution_count": 61,
   "id": "2ac4726c",
   "metadata": {},
   "outputs": [
    {
     "data": {
      "text/plain": [
       "[(0, 0), (0, 7), (3, 2), (5, 1), (6, 4), (7, 0), (7, 7)]"
      ]
     },
     "execution_count": 61,
     "metadata": {},
     "output_type": "execute_result"
    }
   ],
   "source": [
    "#perform a grid search for points over F_8\n",
    "solutions_over_F_8 = []\n",
    "for i in range(8):\n",
    "    for j in range(8):\n",
    "        if g(a^i,a^j) == 0:\n",
    "            solutions_over_F_8.append((i,j))\n",
    "solutions_over_F_8"
   ]
  },
  {
   "cell_type": "code",
   "execution_count": 62,
   "id": "b1f05a34",
   "metadata": {},
   "outputs": [],
   "source": [
    "#evaluate curve over F_7\n",
    "E2=EllipticCurve(GF(7), [0,0,0,1,1])"
   ]
  },
  {
   "cell_type": "code",
   "execution_count": 63,
   "id": "9114ec91",
   "metadata": {},
   "outputs": [
    {
     "data": {
      "text/plain": [
       "5"
      ]
     },
     "execution_count": 63,
     "metadata": {},
     "output_type": "execute_result"
    }
   ],
   "source": [
    "#compute number of points\n",
    "E2.order()"
   ]
  },
  {
   "cell_type": "code",
   "execution_count": 64,
   "id": "687462f4",
   "metadata": {},
   "outputs": [],
   "source": [
    "#compute number of points over a Galois extension GF(7^2=49)\n",
    "E3=EllipticCurve(GF(49), [0,0,0,1,1])"
   ]
  },
  {
   "cell_type": "code",
   "execution_count": 65,
   "id": "6ae72a17",
   "metadata": {},
   "outputs": [
    {
     "data": {
      "text/plain": [
       "55"
      ]
     },
     "execution_count": 65,
     "metadata": {},
     "output_type": "execute_result"
    }
   ],
   "source": [
    "#compute number of points over F_49\n",
    "E3.order()"
   ]
  },
  {
   "cell_type": "code",
   "execution_count": 66,
   "id": "5c5f6b8b",
   "metadata": {},
   "outputs": [],
   "source": [
    "#the Zeta function over F_7 is a rational function of T. What is it? Only need q^n for all n.\n",
    "#for algebraic closure of F_7, \\union_{m|n}F_7^m. Dylan Yott? Community seminar? Is this a bug?\n",
    "#dividing_exponents_seven = [7^1,7^2,7^4,7^8]\n",
    "#Rob: the number of points over 7^n are determined by the number of points over F_7, and \\alpha, \\beta\n",
    "number_of_points_over_extensions_of_F_7 = []\n",
    "for n in range(1,100):\n",
    "    number_of_points_over_extensions_of_F_7+=[EllipticCurve(GF(7^n), [0,0,0,1,1]).order()]"
   ]
  },
  {
   "cell_type": "code",
   "execution_count": 68,
   "id": "4ea3dec5",
   "metadata": {},
   "outputs": [],
   "source": [
    "#build the Zeta function for the finite field F_7 and the elliptic curve y^2=x^3+x+1\n",
    "#this is a rational function of T"
   ]
  },
  {
   "cell_type": "code",
   "execution_count": 70,
   "id": "a9e9e73c",
   "metadata": {},
   "outputs": [],
   "source": [
    "#the shape of the Zeta function should be something like (1-\\alpha*T)*(1-\\beta*T)/((1-T)*(1-qT)) where\n",
    "#q is the order of the finite field of interest, for instance q=7^m. Setting m=1, we can look at q=7.\n",
    "#What are the complex numbers \\alpha and \\beta?"
   ]
  },
  {
   "cell_type": "code",
   "execution_count": 95,
   "id": "a34808b5",
   "metadata": {},
   "outputs": [],
   "source": [
    "#let's examine the algebraic variety E3 over the finite field F_7, and compute an approximation of the Zeta function\n",
    "N=len(number_of_points_over_extensions_of_F_7)\n",
    "var(T)\n",
    "def zeta(q,T):\n",
    "    return sum(exp(number_of_points_over_extensions_of_F_7[n]*T**n/n) for n in range(1,N))"
   ]
  },
  {
   "cell_type": "code",
   "execution_count": 96,
   "id": "69c255e9",
   "metadata": {},
   "outputs": [
    {
     "data": {
      "text/plain": [
       "e^(231034036401768427953189126364301200775514523451661586088970968996926977438411948670/49*T^98) + e^(66009724686219550843768321818371771650146584776324611851281580101108528461093368695/97*T^97) + e^(9429960669459935834824045974053110235735103960291572915710536356042469950440217285/96*T^96) + e^(14180391984150279450863227028651293587571667030771449045117326520291692562452480*T^95) + e^(192448176927753792547429509674553270117064887250223207228332756829790432098261075/94*T^94) + e^(27492596703964827506775644239221895731017084164590737249844762306112124793095335/93*T^93) + e^(981878453713029553813415865686496276107846183824470561216692835208907993148185/23*T^92) + e^(561073402121731173607666208963712157774955473319521175227647577797283253059275/91*T^91) + e^(16030668632049462103076177398963204507763224753300031459392575820733616950317/18*T^90) + e^(11450477594321044359340126713545146076911866684993365242964411791132771735600/89*T^89) + e^(1635782513474434908477160959077878011027071486414976103286169732904490084495/88*T^88) + e^(77894405403544519451293379003708476724186792763168950743751793970517617425/29*T^87) + e^(16691658300759539882420009786508959300743289928059143597733317914401538310/43*T^86) + e^(953809045757687993281143416371940531196293630576406622231353946920194723/17*T^85) + e^(681292175541205709486531011694243235207667102224916477326093391680598925/84*T^84) + e^(97327453648743672783790144527749033214011779379502396918970478568369600/83*T^83) + e^(13903921949820524683398592075392719059125039862427254114836922810394555/82*T^82) + e^(1986274564260074954771227439341817075980620909752155578608621320162255/81*T^81) + e^(14187675459000535391223053138155837500223230845194093848614946356089/4*T^80) + e^(40536215597144386832065866109016679580486531392130426203573052411875/79*T^79) + e^(5790887942449198118866552301288093963053012646795688624197500336265/78*T^78) + e^(10743762416417807270624401301091064183695641954109964594248187760*T^77) + e^(118181386580595879976868414312001516938861407698665788301982486935/76*T^76) + e^(225107403010658819003558884403814153985166736787389920838613713*T^75) + e^(1205932516128529387519065452163331593110209191156410454065044750/37*T^74) + e^(344552147465294110719732986332397360493021832915965981646218535/73*T^73) + e^(49221735352184872959961855190337873071182301174960866687535765/72*T^72) + e^(7031676478883553279994550741472449536393969103103374671814400/71*T^71) + e^(200905042253815807999844306898968231837673290013272675843527/14*T^70) + e^(143503601609868434285603076356508778867691239709903971173175/69*T^69) + e^(5125128628923872653057252727072876289824792419984959553505/17*T^68) + e^(2928644930813641516032715844120724795343485796033451785275/67*T^67) + e^(418377847259091645147530834877020847843207044886576306545/66*T^66) + e^(11953652778831189861358023851595269165200444801752885488/13*T^65) + e^(8538323413450849900970017032119469388560767743124340575/64*T^64) + e^(135528943070648411126508206795017080414708166907967275/7*T^63) + e^(87125749116845407152755276011489349029602088146211990/31*T^62) + e^(24893071176241544900787221983904810140709176685615455/61*T^61) + e^(711230605035472711451063495815107865633423209978361/12*T^60) + e^(508021860739623365322188195878483629403911404760000/59*T^59) + e^(72574551534231909331741156688713438415255826938315/58*T^58) + e^(10367793076318844190248732807646516525615615440095/57*T^57) + e^(370278324154244435366026263293120959023420243365/14*T^56) + e^(3847047523680461666140545492051139357967621445*T^55) + e^(30226801971775055948247394564906791345896790425/54*T^54) + e^(4318114567396436564035348578811170344828557360/53*T^53) + e^(616873509628062366290730951437908589478589415/52*T^52) + e^(29374929029907731728125002837119240836814425/17*T^51) + e^(1258925529853188502633753679081838123132806/5*T^50) + e^(1798465042647412146621059111576449772476375/49*T^49) + e^(256923577521058878089577463822744976051045/48*T^48) + e^(36703368217294125441532952287566180326400/47*T^47) + e^(5243338316756303634453206885731695124595/46*T^46) + e^(149809666193037246689541770398247495003/9*T^45) + e^(2431975100536318939488279817255973275*T^44) + e^(15286700631942576192360797973034274475/43*T^43) + e^(2183814375991796601203430115174875905/42*T^42) + e^(311973482284542372399436233751359280/41*T^41) + e^(8913528065272639214329434148259491/8*T^40) + e^(2122268586969675967450262302160625/13*T^39) + e^(23935360003417396857565284489730*T^38) + e^(129934811447123006216097232113295/37*T^37) + e^(18562115921017576949524516317485/36*T^36) + e^(75763738453133045488743408960*T^35) + e^(378818692265665740812665504475/34*T^34) + e^(4919723276177461542150199085/3*T^33) + e^(1932748429926823157967477485/8*T^32) + e^(1104427674243860507520430275/31*T^31) + e^(31555076406968346349082197/6*T^30) + e^(22539340290699102970145200/29*T^29) + e^(3219905755816695372048695/28*T^28) + e^(51109615171696536193475/3*T^27) + e^(32856181181629350718510/13*T^26) + e^(1877496067490819407643/5*T^25) + e^(1341068619620337315125/24*T^24) + e^(191581231389534201600/23*T^23) + e^(27368747350156765955/22*T^22) + e^(3909821051620096855/21*T^21) + e^(27927293197274749*T^20) + e^(79792265804686875/19*T^19) + e^(11398894993803665/18*T^18) + e^(1628413586227120/17*T^17) + e^(232630536347135/16*T^16) + e^(2215529454765*T^15) + e^(2373781568950/7*T^14) + e^(678222163135/13*T^13) + e^(96888387965/12*T^12) + e^(1258286400*T^11) + e^(395471407/2*T^10) + e^(282507775/9*T^9) + e^(10090805/2*T^8) + e^(5764275/7*T^7) + e^(821945/6*T^6) + e^(23408*T^5) + e^(16775/4*T^4) + e^(825*T^3) + e^(190*T^2) + e^(55*T)"
      ]
     },
     "execution_count": 96,
     "metadata": {},
     "output_type": "execute_result"
    }
   ],
   "source": [
    "zeta(7,T)"
   ]
  },
  {
   "cell_type": "code",
   "execution_count": null,
   "id": "4c08b948",
   "metadata": {},
   "outputs": [],
   "source": []
  }
 ],
 "metadata": {
  "kernelspec": {
   "display_name": "SageMath 9.6",
   "language": "sage",
   "name": "sagemath-9.6"
  },
  "language_info": {
   "codemirror_mode": {
    "name": "ipython",
    "version": 3
   },
   "file_extension": ".py",
   "mimetype": "text/x-python",
   "name": "python",
   "nbconvert_exporter": "python",
   "pygments_lexer": "ipython3",
   "version": "3.10.3"
  }
 },
 "nbformat": 4,
 "nbformat_minor": 5
}
