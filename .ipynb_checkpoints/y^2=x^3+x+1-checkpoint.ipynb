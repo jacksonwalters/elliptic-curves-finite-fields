{
 "cells": [
  {
   "cell_type": "code",
   "execution_count": 85,
   "id": "7217a94f",
   "metadata": {},
   "outputs": [],
   "source": [
    "E=EllipticCurve([0,0,0,1,1])"
   ]
  },
  {
   "cell_type": "code",
   "execution_count": 86,
   "id": "af8261d4",
   "metadata": {},
   "outputs": [
    {
     "data": {
      "text/plain": [
       "1"
      ]
     },
     "execution_count": 86,
     "metadata": {},
     "output_type": "execute_result"
    }
   ],
   "source": [
    "E.rank()"
   ]
  },
  {
   "cell_type": "code",
   "execution_count": 87,
   "id": "22beae19",
   "metadata": {},
   "outputs": [
    {
     "data": {
      "text/plain": [
       "[(0 : 1 : 0)]"
      ]
     },
     "execution_count": 87,
     "metadata": {},
     "output_type": "execute_result"
    }
   ],
   "source": [
    "E.torsion_points()"
   ]
  },
  {
   "cell_type": "code",
   "execution_count": 88,
   "id": "403e6cfa",
   "metadata": {},
   "outputs": [],
   "source": [
    "#curve is not smooth over F_2, so not elliptic\n",
    "#E2=EllipticCurve(GF(2), [0,0,0,1,1]) returns an error appropriately\n",
    "#it has a singularity at the origin since both partial derivatives vanish there"
   ]
  },
  {
   "cell_type": "code",
   "execution_count": 89,
   "id": "89e3f885",
   "metadata": {},
   "outputs": [],
   "source": [
    "#we can still compute the number of points over extensions F_2. \n",
    "#let's compute for fields where the exponent m of 2^m divides the exponent n of 2^n\n",
    "#find points of curve over extensions of F_2^1, e.g. F_2^2=4, F_2^4=16, F_2^5=32\n",
    "def g(x,y):\n",
    "    return y^2-x^3+x+1"
   ]
  },
  {
   "cell_type": "code",
   "execution_count": 90,
   "id": "85db3049",
   "metadata": {},
   "outputs": [
    {
     "data": {
      "text/html": [
       "<html>\\(\\displaystyle x^{3} + x^{2} + y^{2}\\)</html>"
      ],
      "text/latex": [
       "$\\displaystyle x^{3} + x^{2} + y^{2}$"
      ],
      "text/plain": [
       "x^3 + x^2 + y^2"
      ]
     },
     "metadata": {},
     "output_type": "display_data"
    }
   ],
   "source": [
    "#after the change of variables x->x+1, y->y+1, we obtain the curve y^2=x^2(x+1)\n",
    "Q.<x,y> = PolynomialRing(GF(2))\n",
    "show(g(x+1,y+1))"
   ]
  },
  {
   "cell_type": "code",
   "execution_count": 91,
   "id": "705dc5c4",
   "metadata": {},
   "outputs": [
    {
     "data": {
      "text/plain": [
       "a"
      ]
     },
     "execution_count": 91,
     "metadata": {},
     "output_type": "execute_result"
    }
   ],
   "source": [
    "#arithmetic over field extensions of F_2\n",
    "P.<x> = PolynomialRing(GF(2))\n",
    "f = x^3 + x + 1 # Fano Polynomial\n",
    "k.<a> = GF(2^3, modulus=f)\n",
    "k.modulus()\n",
    "x^3+x+1\n",
    "a^(2^3)"
   ]
  },
  {
   "cell_type": "code",
   "execution_count": 92,
   "id": "66087ab3",
   "metadata": {},
   "outputs": [
    {
     "data": {
      "text/plain": [
       "[1, 1, 2, 2, 0, 1, a^2, a^2 + a, a^2 + 1]"
      ]
     },
     "execution_count": 92,
     "metadata": {},
     "output_type": "execute_result"
    }
   ],
   "source": [
    "#find zeros of f(x,y) over degree 3 field extension F_8 of F_2 \\isom F_2[x]/(x^3+x+1)\n",
    "[g(0,0),g(1,0),g(0,1),g(1,1),g(a,0),g(a,1),g(a,a),g(a,a^2),g(a,a^3)]"
   ]
  },
  {
   "cell_type": "code",
   "execution_count": 93,
   "id": "a1e25b48",
   "metadata": {},
   "outputs": [
    {
     "data": {
      "text/plain": [
       "[(0, 0), (0, 7), (3, 2), (5, 1), (6, 4), (7, 0), (7, 7)]"
      ]
     },
     "execution_count": 93,
     "metadata": {},
     "output_type": "execute_result"
    }
   ],
   "source": [
    "#perform a grid search for points over F_8\n",
    "solutions_over_F_8 = []\n",
    "for i in range(8):\n",
    "    for j in range(8):\n",
    "        if g(a^i,a^j) == 0:\n",
    "            solutions_over_F_8.append((i,j))\n",
    "solutions_over_F_8"
   ]
  },
  {
   "cell_type": "code",
   "execution_count": 94,
   "id": "b1f05a34",
   "metadata": {},
   "outputs": [],
   "source": [
    "#evaluate curve over F_7\n",
    "E2=EllipticCurve(GF(7), [0,0,0,1,1])"
   ]
  },
  {
   "cell_type": "code",
   "execution_count": 95,
   "id": "9114ec91",
   "metadata": {},
   "outputs": [
    {
     "data": {
      "text/plain": [
       "5"
      ]
     },
     "execution_count": 95,
     "metadata": {},
     "output_type": "execute_result"
    }
   ],
   "source": [
    "#compute number of points\n",
    "E2.order()"
   ]
  },
  {
   "cell_type": "code",
   "execution_count": 96,
   "id": "687462f4",
   "metadata": {},
   "outputs": [],
   "source": [
    "#compute number of points over a Galois extension GF(7^2=49)\n",
    "E3=EllipticCurve(GF(49), [0,0,0,1,1])"
   ]
  },
  {
   "cell_type": "code",
   "execution_count": 97,
   "id": "3307b2f4",
   "metadata": {},
   "outputs": [
    {
     "data": {
      "text/plain": [
       "55"
      ]
     },
     "execution_count": 97,
     "metadata": {},
     "output_type": "execute_result"
    }
   ],
   "source": [
    "#compute number of points over F_49\n",
    "E3.order()"
   ]
  },
  {
   "cell_type": "code",
   "execution_count": 98,
   "id": "ccdc7cd1",
   "metadata": {},
   "outputs": [],
   "source": [
    "#the Zeta function over F_7 is a rational function of T. What is it? Only need q^n for all n.\n",
    "#for algebraic closure of F_7, \\union_{m|n}F_7^m. Dylan Yott? Community seminar? Is this a bug?\n",
    "#dividing_exponents_seven = [7^1,7^2,7^4,7^8]\n",
    "#Rob: the number of points over 7^n are determined by the number of points over F_7, and \\alpha, \\beta\n",
    "N=10\n",
    "number_of_points_over_extensions_of_F_7 = []\n",
    "for n in range(1,N):\n",
    "    number_of_points_over_extensions_of_F_7+=[EllipticCurve(GF(7^n), [0,0,0,1,1]).order()]"
   ]
  },
  {
   "cell_type": "code",
   "execution_count": 99,
   "id": "ba4b768f",
   "metadata": {},
   "outputs": [],
   "source": [
    "#build the Zeta function for the finite field F_7 and the elliptic curve y^2=x^3+x+1\n",
    "#this is a rational function of T"
   ]
  },
  {
   "cell_type": "code",
   "execution_count": 100,
   "id": "338f1851",
   "metadata": {},
   "outputs": [],
   "source": [
    "#the shape of the Zeta function should be something like (1-\\alpha*T)*(1-\\beta*T)/((1-T)*(1-qT)) where\n",
    "#q is the order of the finite field of interest, for instance q=7^m. Setting m=1, we can look at q=7.\n",
    "#What are the complex numbers \\alpha and \\beta?"
   ]
  },
  {
   "cell_type": "code",
   "execution_count": 101,
   "id": "f5aa6248",
   "metadata": {},
   "outputs": [],
   "source": [
    "#let's examine the algebraic variety E3 over the finite field F_7, and compute an approximation of the Zeta function\n",
    "var('T')\n",
    "def zeta(q,T):\n",
    "    return sum(exp(number_of_points_over_extensions_of_F_7[n]*T**n/n) for n in range(1,N-2))"
   ]
  },
  {
   "cell_type": "code",
   "execution_count": 102,
   "id": "f5ca1004",
   "metadata": {},
   "outputs": [
    {
     "data": {
      "text/plain": [
       "e^(5764275/7*T^7) + e^(821945/6*T^6) + e^(23408*T^5) + e^(16775/4*T^4) + e^(825*T^3) + e^(190*T^2) + e^(55*T)"
      ]
     },
     "execution_count": 102,
     "metadata": {},
     "output_type": "execute_result"
    }
   ],
   "source": [
    "#zeta(7,T) = (1-\\alpha*T)(1-\\beta*T)/((1-T)*(1-qT)) thanks to Joe Silverman.\n",
    "#\\alpha = (3+\\sqrt{19}*i)/14, \\beta = \\overline{\\alpha}\n",
    "zeta(7,T)"
   ]
  },
  {
   "cell_type": "code",
   "execution_count": 103,
   "id": "2b696d34",
   "metadata": {},
   "outputs": [],
   "source": [
    "#define the Zeta function using the formulas found in Silverman, pp. 140 - 144\n",
    "#compute \\alpha and \\beta\n",
    "n_7 = number_of_points_over_extensions_of_F_7[0]\n",
    "a_7 = 7+1-n_7\n",
    "h(T)=1-a_7*T+7*T^2\n",
    "alpha=h(T).roots()[1][0]\n",
    "beta=h(T).roots()[0][0]\n",
    "def zeta_silverman(q,T):\n",
    "    return (1-alpha*T)*(1-beta*T)/((1-T)*(1-q*T))"
   ]
  },
  {
   "cell_type": "code",
   "execution_count": 104,
   "id": "430adc3b",
   "metadata": {},
   "outputs": [
    {
     "data": {
      "text/plain": [
       "1/196*(T*(I*sqrt(19) - 3) + 14)*(T*(-I*sqrt(19) - 3) + 14)/((7*T - 1)*(T - 1))"
      ]
     },
     "execution_count": 104,
     "metadata": {},
     "output_type": "execute_result"
    }
   ],
   "source": [
    "zeta_silverman(7,T)"
   ]
  },
  {
   "cell_type": "code",
   "execution_count": 105,
   "id": "4367de01",
   "metadata": {},
   "outputs": [],
   "source": [
    "#the number of points over extensions of F_7 can be computed by evaluating the n-th derivative of the zeta function\n",
    "zeta_diff = lambda T : diff(zeta_silverman(7,T),T)"
   ]
  },
  {
   "cell_type": "code",
   "execution_count": null,
   "id": "5732950b",
   "metadata": {},
   "outputs": [],
   "source": []
  }
 ],
 "metadata": {
  "kernelspec": {
   "display_name": "SageMath 9.6",
   "language": "sage",
   "name": "sagemath-9.6"
  },
  "language_info": {
   "codemirror_mode": {
    "name": "ipython",
    "version": 3
   },
   "file_extension": ".py",
   "mimetype": "text/x-python",
   "name": "python",
   "nbconvert_exporter": "python",
   "pygments_lexer": "ipython3",
   "version": "3.10.3"
  }
 },
 "nbformat": 4,
 "nbformat_minor": 5
}
