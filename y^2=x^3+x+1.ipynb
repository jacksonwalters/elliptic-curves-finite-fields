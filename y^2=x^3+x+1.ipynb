{
 "cells": [
  {
   "cell_type": "code",
   "execution_count": 8,
   "id": "7217a94f",
   "metadata": {},
   "outputs": [],
   "source": [
    "E=EllipticCurve([0,0,0,1,1])"
   ]
  },
  {
   "cell_type": "code",
   "execution_count": 11,
   "id": "af8261d4",
   "metadata": {},
   "outputs": [
    {
     "data": {
      "text/plain": [
       "[(0 : 1 : 0)]"
      ]
     },
     "execution_count": 11,
     "metadata": {},
     "output_type": "execute_result"
    }
   ],
   "source": [
    "E.rank()"
   ]
  },
  {
   "cell_type": "code",
   "execution_count": 12,
   "id": "22beae19",
   "metadata": {},
   "outputs": [
    {
     "data": {
      "text/plain": [
       "[(0 : 1 : 0)]"
      ]
     },
     "execution_count": 12,
     "metadata": {},
     "output_type": "execute_result"
    }
   ],
   "source": [
    "E.torsion_points()"
   ]
  },
  {
   "cell_type": "code",
   "execution_count": 3,
   "id": "403e6cfa",
   "metadata": {},
   "outputs": [],
   "source": [
    "#curve is not smooth over F_2, so not elliptic\n",
    "#E2=EllipticCurve(GF(2), [0,0,0,1,1])"
   ]
  },
  {
   "cell_type": "code",
   "execution_count": 6,
   "id": "3a302868",
   "metadata": {},
   "outputs": [],
   "source": [
    "#we can still compute the number of points over extensions F_2. \n",
    "#let's compute for fields where the exponent m of 2^m divides the exponent n of 2^n\n",
    "#evaluate curve over extensions of F_2\n",
    "def f(x,y):\n",
    "    return y^2-x^3+x+1"
   ]
  },
  {
   "cell_type": "code",
   "execution_count": null,
   "id": "310c43bb",
   "metadata": {},
   "outputs": [],
   "source": []
  },
  {
   "cell_type": "code",
   "execution_count": 1,
   "id": "b1f05a34",
   "metadata": {},
   "outputs": [],
   "source": [
    "#evaluate curve over F_7\n",
    "E2=EllipticCurve(GF(7), [0,0,0,1,1])"
   ]
  },
  {
   "cell_type": "code",
   "execution_count": 4,
   "id": "9114ec91",
   "metadata": {},
   "outputs": [
    {
     "data": {
      "text/plain": [
       "5"
      ]
     },
     "execution_count": 4,
     "metadata": {},
     "output_type": "execute_result"
    }
   ],
   "source": [
    "#compute number of points\n",
    "E2.order()"
   ]
  },
  {
   "cell_type": "code",
   "execution_count": 4,
   "id": "687462f4",
   "metadata": {},
   "outputs": [],
   "source": [
    "#compute number of points over a Galois extension GF(7^2=49)\n",
    "E3=EllipticCurve(GF(49), [0,0,0,1,1])"
   ]
  },
  {
   "cell_type": "code",
   "execution_count": 5,
   "id": "3cb53259",
   "metadata": {},
   "outputs": [
    {
     "data": {
      "text/plain": [
       "55"
      ]
     },
     "execution_count": 5,
     "metadata": {},
     "output_type": "execute_result"
    }
   ],
   "source": [
    "#compute number of points over F_49\n",
    "E3.order()"
   ]
  },
  {
   "cell_type": "code",
   "execution_count": null,
   "id": "508fa728",
   "metadata": {},
   "outputs": [],
   "source": []
  }
 ],
 "metadata": {
  "kernelspec": {
   "display_name": "SageMath 9.6",
   "language": "sage",
   "name": "sagemath-9.6"
  },
  "language_info": {
   "codemirror_mode": {
    "name": "ipython",
    "version": 3
   },
   "file_extension": ".py",
   "mimetype": "text/x-python",
   "name": "python",
   "nbconvert_exporter": "python",
   "pygments_lexer": "ipython3",
   "version": "3.10.3"
  }
 },
 "nbformat": 4,
 "nbformat_minor": 5
}
