{
 "cells": [
  {
   "cell_type": "code",
   "execution_count": 54,
   "id": "7217a94f",
   "metadata": {},
   "outputs": [],
   "source": [
    "E=EllipticCurve([0,0,0,1,1])"
   ]
  },
  {
   "cell_type": "code",
   "execution_count": 55,
   "id": "af8261d4",
   "metadata": {},
   "outputs": [
    {
     "data": {
      "text/plain": [
       "1"
      ]
     },
     "execution_count": 55,
     "metadata": {},
     "output_type": "execute_result"
    }
   ],
   "source": [
    "E.rank()"
   ]
  },
  {
   "cell_type": "code",
   "execution_count": 56,
   "id": "22beae19",
   "metadata": {},
   "outputs": [
    {
     "data": {
      "text/plain": [
       "[(0 : 1 : 0)]"
      ]
     },
     "execution_count": 56,
     "metadata": {},
     "output_type": "execute_result"
    }
   ],
   "source": [
    "E.torsion_points()"
   ]
  },
  {
   "cell_type": "code",
   "execution_count": 57,
   "id": "403e6cfa",
   "metadata": {},
   "outputs": [],
   "source": [
    "#curve is not smooth over F_2, so not elliptic\n",
    "#E2=EllipticCurve(GF(2), [0,0,0,1,1])"
   ]
  },
  {
   "cell_type": "code",
   "execution_count": 58,
   "id": "c06bffbe",
   "metadata": {},
   "outputs": [],
   "source": [
    "#we can still compute the number of points over extensions F_2. \n",
    "#let's compute for fields where the exponent m of 2^m divides the exponent n of 2^n\n",
    "#find points of curve over extensions of F_2^1, e.g. F_2^2=4, F_2^4=16, F_2^5=32\n",
    "def g(x,y):\n",
    "    return y^2-x^3+x+1"
   ]
  },
  {
   "cell_type": "code",
   "execution_count": 59,
   "id": "44323dee",
   "metadata": {},
   "outputs": [
    {
     "data": {
      "text/plain": [
       "a"
      ]
     },
     "execution_count": 59,
     "metadata": {},
     "output_type": "execute_result"
    }
   ],
   "source": [
    "#arithmetic over field extensions of F_2\n",
    "P.<x> = PolynomialRing(GF(2))\n",
    "f = x^3 + x + 1 # Fano Polynomial\n",
    "k.<a> = GF(2^3, modulus=f)\n",
    "k.modulus()\n",
    "x^3+x+1\n",
    "a^(2^3)"
   ]
  },
  {
   "cell_type": "code",
   "execution_count": 60,
   "id": "e5a50e62",
   "metadata": {},
   "outputs": [
    {
     "data": {
      "text/plain": [
       "[1, 1, 2, 2, 0, 1, a^2, a^2 + a, a^2 + 1]"
      ]
     },
     "execution_count": 60,
     "metadata": {},
     "output_type": "execute_result"
    }
   ],
   "source": [
    "#find zeros of f(x,y) over degree 3 field extension F_8 of F_2 \\isom F_2[x]/(x^3+x+1)\n",
    "[g(0,0),g(1,0),g(0,1),g(1,1),g(a,0),g(a,1),g(a,a),g(a,a^2),g(a,a^3)]"
   ]
  },
  {
   "cell_type": "code",
   "execution_count": 61,
   "id": "ffb7d256",
   "metadata": {},
   "outputs": [
    {
     "data": {
      "text/plain": [
       "[(0, 0), (0, 7), (3, 2), (5, 1), (6, 4), (7, 0), (7, 7)]"
      ]
     },
     "execution_count": 61,
     "metadata": {},
     "output_type": "execute_result"
    }
   ],
   "source": [
    "#perform a grid search for points over F_8\n",
    "solutions_over_F_8 = []\n",
    "for i in range(8):\n",
    "    for j in range(8):\n",
    "        if g(a^i,a^j) == 0:\n",
    "            solutions_over_F_8.append((i,j))\n",
    "solutions_over_F_8"
   ]
  },
  {
   "cell_type": "code",
   "execution_count": 62,
   "id": "b1f05a34",
   "metadata": {},
   "outputs": [],
   "source": [
    "#evaluate curve over F_7\n",
    "E2=EllipticCurve(GF(7), [0,0,0,1,1])"
   ]
  },
  {
   "cell_type": "code",
   "execution_count": 63,
   "id": "9114ec91",
   "metadata": {},
   "outputs": [
    {
     "data": {
      "text/plain": [
       "5"
      ]
     },
     "execution_count": 63,
     "metadata": {},
     "output_type": "execute_result"
    }
   ],
   "source": [
    "#compute number of points\n",
    "E2.order()"
   ]
  },
  {
   "cell_type": "code",
   "execution_count": 64,
   "id": "687462f4",
   "metadata": {},
   "outputs": [],
   "source": [
    "#compute number of points over a Galois extension GF(7^2=49)\n",
    "E3=EllipticCurve(GF(49), [0,0,0,1,1])"
   ]
  },
  {
   "cell_type": "code",
   "execution_count": 65,
   "id": "2225156b",
   "metadata": {},
   "outputs": [
    {
     "data": {
      "text/plain": [
       "55"
      ]
     },
     "execution_count": 65,
     "metadata": {},
     "output_type": "execute_result"
    }
   ],
   "source": [
    "#compute number of points over F_49\n",
    "E3.order()"
   ]
  },
  {
   "cell_type": "code",
   "execution_count": 66,
   "id": "c52f9235",
   "metadata": {},
   "outputs": [],
   "source": [
    "#the Zeta function over F_7 is a rational function of T. What is it? Only need q^n for all n.\n",
    "#for algebraic closure of F_7, \\union_{m|n}F_7^m. Dylan Yott? Community seminar? Is this a bug?\n",
    "#dividing_exponents_seven = [7^1,7^2,7^4,7^8]\n",
    "#Rob: the number of points over 7^n are determined by the number of points over F_7, and \\alpha, \\beta\n",
    "number_of_points_over_extensions_of_F_7 = []\n",
    "for n in range(1,100):\n",
    "    number_of_points_over_extensions_of_F_7+=[EllipticCurve(GF(7^n), [0,0,0,1,1]).order()]"
   ]
  },
  {
   "cell_type": "code",
   "execution_count": 68,
   "id": "d100c945",
   "metadata": {},
   "outputs": [],
   "source": [
    "#build the Zeta function for the finite field F_7 and the elliptic curve y^2=x^3+x+1\n",
    "#this is a rational function of T"
   ]
  },
  {
   "cell_type": "code",
   "execution_count": 70,
   "id": "ee7bb16d",
   "metadata": {},
   "outputs": [],
   "source": [
    "#the shape of the Zeta function should be something like (1-\\alpha*T)*(1-\\beta*T)/((1-T)*(1-qT)) where\n",
    "#q is the order of the finite field of interest, for instance q=7^m. Setting m=1, we can look at q=7.\n",
    "#What are the complex numbers \\alpha and \\beta?"
   ]
  },
  {
   "cell_type": "code",
   "execution_count": 77,
   "id": "cc0ce41a",
   "metadata": {},
   "outputs": [],
   "source": [
    "#let's examine the algebraic variety E3 over the finite field F_7, and compute an approximation of the Zeta function\n",
    "N=len(number_of_points_over_extensions_of_F_7)\n",
    "def zeta(q,T):\n",
    "    return sum(exp(number_of_points_over_extensions_of_F_7[n]) for n in range(N))"
   ]
  },
  {
   "cell_type": "code",
   "execution_count": 78,
   "id": "8ca0e673",
   "metadata": {},
   "outputs": [
    {
     "data": {
      "text/plain": [
       "e^462068072803536855906378252728602401551029046903323172177941937993853954876823897340 + e^66009724686219550843768321818371771650146584776324611851281580101108528461093368695 + e^9429960669459935834824045974053110235735103960291572915710536356042469950440217285 + e^1347137238494276547832006567721872890819308367923287659286146019427710793432985600 + e^192448176927753792547429509674553270117064887250223207228332756829790432098261075 + e^27492596703964827506775644239221895731017084164590737249844762306112124793095335 + e^3927513814852118215253663462745985104431384735297882244866771340835631972592740 + e^561073402121731173607666208963712157774955473319521175227647577797283253059275 + e^80153343160247310515380886994816022538816123766500157296962879103668084751585 + e^11450477594321044359340126713545146076911866684993365242964411791132771735600 + e^1635782513474434908477160959077878011027071486414976103286169732904490084495 + e^233683216210633558353880137011125430172560378289506852231255381911552852275 + e^33383316601519079764840019573017918601486579856118287195466635828803076620 + e^4769045228788439966405717081859702655981468152882033111156769734600973615 + e^681292175541205709486531011694243235207667102224916477326093391680598925 + e^97327453648743672783790144527749033214011779379502396918970478568369600 + e^13903921949820524683398592075392719059125039862427254114836922810394555 + e^1986274564260074954771227439341817075980620909752155578608621320162255 + e^283753509180010707824461062763116750004464616903881876972298927121780 + e^40536215597144386832065866109016679580486531392130426203573052411875 + e^5790887942449198118866552301288093963053012646795688624197500336265 + e^827269706064171159838078900184011942144564430466467273757110457520 + e^118181386580595879976868414312001516938861407698665788301982486935 + e^16883055225799411425266916330286061548887505259054244062896028475 + e^2411865032257058775038130904326663186220418382312820908130089500 + e^344552147465294110719732986332397360493021832915965981646218535 + e^49221735352184872959961855190337873071182301174960866687535765 + e^7031676478883553279994550741472449536393969103103374671814400 + e^1004525211269079039999221534494841159188366450066363379217635 + e^143503601609868434285603076356508778867691239709903971173175 + e^20500514515695490612229010908291505159299169679939838214020 + e^2928644930813641516032715844120724795343485796033451785275 + e^418377847259091645147530834877020847843207044886576306545 + e^59768263894155949306790119257976345826002224008764427440 + e^8538323413450849900970017032119469388560767743124340575 + e^1219760487635835700138573861155153723732373502171705475 + e^174251498233690814305510552022978698059204176292423980 + e^24893071176241544900787221983904810140709176685615455 + e^3556153025177363557255317479075539328167116049891805 + e^508021860739623365322188195878483629403911404760000 + e^72574551534231909331741156688713438415255826938315 + e^10367793076318844190248732807646516525615615440095 + e^1481113296616977741464105053172483836093680973460 + e^211587613802425391637730002062812664688219179475 + e^30226801971775055948247394564906791345896790425 + e^4318114567396436564035348578811170344828557360 + e^616873509628062366290730951437908589478589415 + e^88124787089723195184375008511357722510443275 + e^12589255298531885026337536790818381231328060 + e^1798465042647412146621059111576449772476375 + e^256923577521058878089577463822744976051045 + e^36703368217294125441532952287566180326400 + e^5243338316756303634453206885731695124595 + e^749048330965186233447708851991237475015 + e^107006904423598033337484311959262824100 + e^15286700631942576192360797973034274475 + e^2183814375991796601203430115174875905 + e^311973482284542372399436233751359280 + e^44567640326363196071647170741297455 + e^6366805760909027902350786906481875 + e^909543680129861080587480810609740 + e^129934811447123006216097232113295 + e^18562115921017576949524516317485 + e^2651730845859656592106019313600 + e^378818692265665740812665504475 + e^54116956037952076963652189935 + e^7730993719707292631869909940 + e^1104427674243860507520430275 + e^157775382034841731745410985 + e^22539340290699102970145200 + e^3219905755816695372048695 + e^459986536545268825741275 + e^65712362363258701437020 + e^9387480337454097038215 + e^1341068619620337315125 + e^191581231389534201600 + e^27368747350156765955 + e^3909821051620096855 + e^558545863945494980 + e^79792265804686875 + e^11398894993803665 + e^1628413586227120 + e^232630536347135 + e^33232941821475 + e^4747563137900 + e^678222163135 + e^96888387965 + e^13841150400 + e^1977357035 + e^282507775 + e^40363220 + e^5764275 + e^821945 + e^117040 + e^16775 + e^2475 + e^380 + e^55 + e^5"
      ]
     },
     "execution_count": 78,
     "metadata": {},
     "output_type": "execute_result"
    }
   ],
   "source": [
    "zeta(\"\",\"\")"
   ]
  },
  {
   "cell_type": "code",
   "execution_count": null,
   "id": "1c1a6593",
   "metadata": {},
   "outputs": [],
   "source": []
  }
 ],
 "metadata": {
  "kernelspec": {
   "display_name": "SageMath 9.6",
   "language": "sage",
   "name": "sagemath-9.6"
  },
  "language_info": {
   "codemirror_mode": {
    "name": "ipython",
    "version": 3
   },
   "file_extension": ".py",
   "mimetype": "text/x-python",
   "name": "python",
   "nbconvert_exporter": "python",
   "pygments_lexer": "ipython3",
   "version": "3.10.3"
  }
 },
 "nbformat": 4,
 "nbformat_minor": 5
}
