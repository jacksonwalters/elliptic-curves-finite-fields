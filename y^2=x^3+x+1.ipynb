{
 "cells": [
  {
   "cell_type": "code",
   "execution_count": 100,
   "id": "7217a94f",
   "metadata": {},
   "outputs": [],
   "source": [
    "E=EllipticCurve([0,0,0,1,1])"
   ]
  },
  {
   "cell_type": "code",
   "execution_count": 101,
   "id": "af8261d4",
   "metadata": {},
   "outputs": [
    {
     "data": {
      "text/plain": [
       "1"
      ]
     },
     "execution_count": 101,
     "metadata": {},
     "output_type": "execute_result"
    }
   ],
   "source": [
    "E.rank()"
   ]
  },
  {
   "cell_type": "code",
   "execution_count": 102,
   "id": "22beae19",
   "metadata": {},
   "outputs": [
    {
     "data": {
      "text/plain": [
       "[(0 : 1 : 0)]"
      ]
     },
     "execution_count": 102,
     "metadata": {},
     "output_type": "execute_result"
    }
   ],
   "source": [
    "E.torsion_points()"
   ]
  },
  {
   "cell_type": "code",
   "execution_count": 103,
   "id": "403e6cfa",
   "metadata": {},
   "outputs": [],
   "source": [
    "#curve is not smooth over F_2, so not elliptic\n",
    "#E2=EllipticCurve(GF(2), [0,0,0,1,1])"
   ]
  },
  {
   "cell_type": "code",
   "execution_count": 104,
   "id": "89e3f885",
   "metadata": {},
   "outputs": [],
   "source": [
    "#we can still compute the number of points over extensions F_2. \n",
    "#let's compute for fields where the exponent m of 2^m divides the exponent n of 2^n\n",
    "#find points of curve over extensions of F_2^1, e.g. F_2^2=4, F_2^4=16, F_2^5=32\n",
    "def g(x,y):\n",
    "    return y^2-x^3+x+1"
   ]
  },
  {
   "cell_type": "code",
   "execution_count": 105,
   "id": "705dc5c4",
   "metadata": {},
   "outputs": [
    {
     "data": {
      "text/plain": [
       "a"
      ]
     },
     "execution_count": 105,
     "metadata": {},
     "output_type": "execute_result"
    }
   ],
   "source": [
    "#arithmetic over field extensions of F_2\n",
    "P.<x> = PolynomialRing(GF(2))\n",
    "f = x^3 + x + 1 # Fano Polynomial\n",
    "k.<a> = GF(2^3, modulus=f)\n",
    "k.modulus()\n",
    "x^3+x+1\n",
    "a^(2^3)"
   ]
  },
  {
   "cell_type": "code",
   "execution_count": 106,
   "id": "66087ab3",
   "metadata": {},
   "outputs": [
    {
     "data": {
      "text/plain": [
       "[1, 1, 2, 2, 0, 1, a^2, a^2 + a, a^2 + 1]"
      ]
     },
     "execution_count": 106,
     "metadata": {},
     "output_type": "execute_result"
    }
   ],
   "source": [
    "#find zeros of f(x,y) over degree 3 field extension F_8 of F_2 \\isom F_2[x]/(x^3+x+1)\n",
    "[g(0,0),g(1,0),g(0,1),g(1,1),g(a,0),g(a,1),g(a,a),g(a,a^2),g(a,a^3)]"
   ]
  },
  {
   "cell_type": "code",
   "execution_count": 107,
   "id": "a1e25b48",
   "metadata": {},
   "outputs": [
    {
     "data": {
      "text/plain": [
       "[(0, 0), (0, 7), (3, 2), (5, 1), (6, 4), (7, 0), (7, 7)]"
      ]
     },
     "execution_count": 107,
     "metadata": {},
     "output_type": "execute_result"
    }
   ],
   "source": [
    "#perform a grid search for points over F_8\n",
    "solutions_over_F_8 = []\n",
    "for i in range(8):\n",
    "    for j in range(8):\n",
    "        if g(a^i,a^j) == 0:\n",
    "            solutions_over_F_8.append((i,j))\n",
    "solutions_over_F_8"
   ]
  },
  {
   "cell_type": "code",
   "execution_count": 108,
   "id": "b1f05a34",
   "metadata": {},
   "outputs": [],
   "source": [
    "#evaluate curve over F_7\n",
    "E2=EllipticCurve(GF(7), [0,0,0,1,1])"
   ]
  },
  {
   "cell_type": "code",
   "execution_count": 109,
   "id": "9114ec91",
   "metadata": {},
   "outputs": [
    {
     "data": {
      "text/plain": [
       "5"
      ]
     },
     "execution_count": 109,
     "metadata": {},
     "output_type": "execute_result"
    }
   ],
   "source": [
    "#compute number of points\n",
    "E2.order()"
   ]
  },
  {
   "cell_type": "code",
   "execution_count": 110,
   "id": "687462f4",
   "metadata": {},
   "outputs": [],
   "source": [
    "#compute number of points over a Galois extension GF(7^2=49)\n",
    "E3=EllipticCurve(GF(49), [0,0,0,1,1])"
   ]
  },
  {
   "cell_type": "code",
   "execution_count": 111,
   "id": "3307b2f4",
   "metadata": {},
   "outputs": [
    {
     "data": {
      "text/plain": [
       "55"
      ]
     },
     "execution_count": 111,
     "metadata": {},
     "output_type": "execute_result"
    }
   ],
   "source": [
    "#compute number of points over F_49\n",
    "E3.order()"
   ]
  },
  {
   "cell_type": "code",
   "execution_count": 132,
   "id": "ccdc7cd1",
   "metadata": {},
   "outputs": [],
   "source": [
    "#the Zeta function over F_7 is a rational function of T. What is it? Only need q^n for all n.\n",
    "#for algebraic closure of F_7, \\union_{m|n}F_7^m. Dylan Yott? Community seminar? Is this a bug?\n",
    "#dividing_exponents_seven = [7^1,7^2,7^4,7^8]\n",
    "#Rob: the number of points over 7^n are determined by the number of points over F_7, and \\alpha, \\beta\n",
    "N=10\n",
    "number_of_points_over_extensions_of_F_7 = []\n",
    "for n in range(1,N):\n",
    "    number_of_points_over_extensions_of_F_7+=[EllipticCurve(GF(7^n), [0,0,0,1,1]).order()]"
   ]
  },
  {
   "cell_type": "code",
   "execution_count": 118,
   "id": "ba4b768f",
   "metadata": {},
   "outputs": [],
   "source": [
    "#build the Zeta function for the finite field F_7 and the elliptic curve y^2=x^3+x+1\n",
    "#this is a rational function of T"
   ]
  },
  {
   "cell_type": "code",
   "execution_count": 119,
   "id": "338f1851",
   "metadata": {},
   "outputs": [],
   "source": [
    "#the shape of the Zeta function should be something like (1-\\alpha*T)*(1-\\beta*T)/((1-T)*(1-qT)) where\n",
    "#q is the order of the finite field of interest, for instance q=7^m. Setting m=1, we can look at q=7.\n",
    "#What are the complex numbers \\alpha and \\beta?"
   ]
  },
  {
   "cell_type": "code",
   "execution_count": 130,
   "id": "f5aa6248",
   "metadata": {},
   "outputs": [],
   "source": [
    "#let's examine the algebraic variety E3 over the finite field F_7, and compute an approximation of the Zeta function\n",
    "var('T')\n",
    "def zeta(q,T):\n",
    "    return sum(exp(number_of_points_over_extensions_of_F_7[n]*T**n/n) for n in range(1,N-2))"
   ]
  },
  {
   "cell_type": "code",
   "execution_count": 133,
   "id": "f5ca1004",
   "metadata": {},
   "outputs": [
    {
     "data": {
      "text/plain": [
       "e^(5764275/7*T^7) + e^(821945/6*T^6) + e^(23408*T^5) + e^(16775/4*T^4) + e^(825*T^3) + e^(190*T^2) + e^(55*T)"
      ]
     },
     "execution_count": 133,
     "metadata": {},
     "output_type": "execute_result"
    }
   ],
   "source": [
    "#zeta(7,T) = (1-\\alpha*T)(1-\\beta*T)/((1-T)*(1-qT)) thanks to Joe Silverman.\n",
    "#\\alpha = (3+\\sqrt{19}*i)/14, \\beta = \\overline{\\alpha}\n",
    "zeta(7,T)"
   ]
  },
  {
   "cell_type": "code",
   "execution_count": 135,
   "id": "2b696d34",
   "metadata": {},
   "outputs": [],
   "source": [
    "#define the Zeta function using the formulas found in Silverman, pp. 140 - 144\n",
    "alpha = (3+sqrt(19)*i)/14\n",
    "beta = (3-sqrt(19)*i)/14\n",
    "def zeta_silverman(q,T):\n",
    "    return (1-alpha*T)(1-beta*T)/((1-T)*(1-qT))"
   ]
  },
  {
   "cell_type": "code",
   "execution_count": 137,
   "id": "269ba4a5",
   "metadata": {},
   "outputs": [
    {
     "ename": "TypeError",
     "evalue": "Substitution using function-call syntax and unnamed arguments has been removed. You can use named arguments instead, like EXPR(x=..., y=...)",
     "output_type": "error",
     "traceback": [
      "\u001b[0;31m---------------------------------------------------------------------------\u001b[0m",
      "\u001b[0;31mTypeError\u001b[0m                                 Traceback (most recent call last)",
      "\u001b[0;32m/var/folders/4d/rp7dhwss6znf18sks0v304d80000gn/T/ipykernel_1354/2268687115.py\u001b[0m in \u001b[0;36m<module>\u001b[0;34m\u001b[0m\n\u001b[0;32m----> 1\u001b[0;31m \u001b[0mzeta_silverman\u001b[0m\u001b[0;34m(\u001b[0m\u001b[0mInteger\u001b[0m\u001b[0;34m(\u001b[0m\u001b[0;36m7\u001b[0m\u001b[0;34m)\u001b[0m\u001b[0;34m,\u001b[0m\u001b[0mT\u001b[0m\u001b[0;34m)\u001b[0m\u001b[0;34m\u001b[0m\u001b[0;34m\u001b[0m\u001b[0m\n\u001b[0m",
      "\u001b[0;32m/var/folders/4d/rp7dhwss6znf18sks0v304d80000gn/T/ipykernel_1354/1627844629.py\u001b[0m in \u001b[0;36mzeta_silverman\u001b[0;34m(q, T)\u001b[0m\n\u001b[1;32m      3\u001b[0m \u001b[0mbeta\u001b[0m \u001b[0;34m=\u001b[0m \u001b[0;34m(\u001b[0m\u001b[0mInteger\u001b[0m\u001b[0;34m(\u001b[0m\u001b[0;36m3\u001b[0m\u001b[0;34m)\u001b[0m\u001b[0;34m-\u001b[0m\u001b[0msqrt\u001b[0m\u001b[0;34m(\u001b[0m\u001b[0mInteger\u001b[0m\u001b[0;34m(\u001b[0m\u001b[0;36m19\u001b[0m\u001b[0;34m)\u001b[0m\u001b[0;34m)\u001b[0m\u001b[0;34m*\u001b[0m\u001b[0mi\u001b[0m\u001b[0;34m)\u001b[0m\u001b[0;34m/\u001b[0m\u001b[0mInteger\u001b[0m\u001b[0;34m(\u001b[0m\u001b[0;36m14\u001b[0m\u001b[0;34m)\u001b[0m\u001b[0;34m\u001b[0m\u001b[0;34m\u001b[0m\u001b[0m\n\u001b[1;32m      4\u001b[0m \u001b[0;32mdef\u001b[0m \u001b[0mzeta_silverman\u001b[0m\u001b[0;34m(\u001b[0m\u001b[0mq\u001b[0m\u001b[0;34m,\u001b[0m\u001b[0mT\u001b[0m\u001b[0;34m)\u001b[0m\u001b[0;34m:\u001b[0m\u001b[0;34m\u001b[0m\u001b[0;34m\u001b[0m\u001b[0m\n\u001b[0;32m----> 5\u001b[0;31m     \u001b[0;32mreturn\u001b[0m \u001b[0;34m(\u001b[0m\u001b[0mInteger\u001b[0m\u001b[0;34m(\u001b[0m\u001b[0;36m1\u001b[0m\u001b[0;34m)\u001b[0m\u001b[0;34m-\u001b[0m\u001b[0malpha\u001b[0m\u001b[0;34m*\u001b[0m\u001b[0mT\u001b[0m\u001b[0;34m)\u001b[0m\u001b[0;34m(\u001b[0m\u001b[0mInteger\u001b[0m\u001b[0;34m(\u001b[0m\u001b[0;36m1\u001b[0m\u001b[0;34m)\u001b[0m\u001b[0;34m-\u001b[0m\u001b[0mbeta\u001b[0m\u001b[0;34m*\u001b[0m\u001b[0mT\u001b[0m\u001b[0;34m)\u001b[0m\u001b[0;34m/\u001b[0m\u001b[0;34m(\u001b[0m\u001b[0;34m(\u001b[0m\u001b[0mInteger\u001b[0m\u001b[0;34m(\u001b[0m\u001b[0;36m1\u001b[0m\u001b[0;34m)\u001b[0m\u001b[0;34m-\u001b[0m\u001b[0mT\u001b[0m\u001b[0;34m)\u001b[0m\u001b[0;34m*\u001b[0m\u001b[0;34m(\u001b[0m\u001b[0mInteger\u001b[0m\u001b[0;34m(\u001b[0m\u001b[0;36m1\u001b[0m\u001b[0;34m)\u001b[0m\u001b[0;34m-\u001b[0m\u001b[0mqT\u001b[0m\u001b[0;34m)\u001b[0m\u001b[0;34m)\u001b[0m\u001b[0;34m\u001b[0m\u001b[0;34m\u001b[0m\u001b[0m\n\u001b[0m",
      "\u001b[0;32m/private/var/tmp/sage-9.6-current/local/var/lib/sage/venv-python3.10.3/lib/python3.10/site-packages/sage/symbolic/expression.pyx\u001b[0m in \u001b[0;36msage.symbolic.expression.Expression.__call__ (build/cythonized/sage/symbolic/expression.cpp:61377)\u001b[0;34m()\u001b[0m\n\u001b[1;32m   6168\u001b[0m             \u001b[0mz\u001b[0m\u001b[0;34m^\u001b[0m\u001b[0;36m2\u001b[0m \u001b[0;34m+\u001b[0m \u001b[0mx\u001b[0m\u001b[0;34m^\u001b[0m\u001b[0my\u001b[0m\u001b[0;34m\u001b[0m\u001b[0;34m\u001b[0m\u001b[0m\n\u001b[1;32m   6169\u001b[0m         \"\"\"\n\u001b[0;32m-> 6170\u001b[0;31m         \u001b[0;32mreturn\u001b[0m \u001b[0mself\u001b[0m\u001b[0;34m.\u001b[0m\u001b[0m_parent\u001b[0m\u001b[0;34m.\u001b[0m\u001b[0m_call_element_\u001b[0m\u001b[0;34m(\u001b[0m\u001b[0mself\u001b[0m\u001b[0;34m,\u001b[0m \u001b[0;34m*\u001b[0m\u001b[0margs\u001b[0m\u001b[0;34m,\u001b[0m \u001b[0;34m**\u001b[0m\u001b[0mkwds\u001b[0m\u001b[0;34m)\u001b[0m\u001b[0;34m\u001b[0m\u001b[0;34m\u001b[0m\u001b[0m\n\u001b[0m\u001b[1;32m   6171\u001b[0m \u001b[0;34m\u001b[0m\u001b[0m\n\u001b[1;32m   6172\u001b[0m     \u001b[0;32mdef\u001b[0m \u001b[0mvariables\u001b[0m\u001b[0;34m(\u001b[0m\u001b[0mself\u001b[0m\u001b[0;34m)\u001b[0m\u001b[0;34m:\u001b[0m\u001b[0;34m\u001b[0m\u001b[0;34m\u001b[0m\u001b[0m\n",
      "\u001b[0;32m/private/var/tmp/sage-9.6-current/local/var/lib/sage/venv-python3.10.3/lib/python3.10/site-packages/sage/symbolic/ring.pyx\u001b[0m in \u001b[0;36msage.symbolic.ring.SymbolicRing._call_element_ (build/cythonized/sage/symbolic/ring.c:9970)\u001b[0;34m()\u001b[0m\n\u001b[1;32m   1047\u001b[0m             \u001b[0md\u001b[0m \u001b[0;34m=\u001b[0m \u001b[0margs\u001b[0m\u001b[0;34m[\u001b[0m\u001b[0;36m0\u001b[0m\u001b[0;34m]\u001b[0m\u001b[0;34m\u001b[0m\u001b[0;34m\u001b[0m\u001b[0m\n\u001b[1;32m   1048\u001b[0m         \u001b[0;32melse\u001b[0m\u001b[0;34m:\u001b[0m\u001b[0;34m\u001b[0m\u001b[0;34m\u001b[0m\u001b[0m\n\u001b[0;32m-> 1049\u001b[0;31m             raise TypeError(\"Substitution using function-call syntax \"\n\u001b[0m\u001b[1;32m   1050\u001b[0m                             \u001b[0;34m\"and unnamed arguments has been removed. You \"\u001b[0m\u001b[0;34m\u001b[0m\u001b[0;34m\u001b[0m\u001b[0m\n\u001b[1;32m   1051\u001b[0m                             \u001b[0;34m\"can use named arguments instead, like \"\u001b[0m\u001b[0;34m\u001b[0m\u001b[0;34m\u001b[0m\u001b[0m\n",
      "\u001b[0;31mTypeError\u001b[0m: Substitution using function-call syntax and unnamed arguments has been removed. You can use named arguments instead, like EXPR(x=..., y=...)"
     ]
    }
   ],
   "source": [
    "zeta_silverman(7,T)"
   ]
  },
  {
   "cell_type": "code",
   "execution_count": null,
   "id": "3562f651",
   "metadata": {},
   "outputs": [],
   "source": []
  }
 ],
 "metadata": {
  "kernelspec": {
   "display_name": "SageMath 9.6",
   "language": "sage",
   "name": "sagemath-9.6"
  },
  "language_info": {
   "codemirror_mode": {
    "name": "ipython",
    "version": 3
   },
   "file_extension": ".py",
   "mimetype": "text/x-python",
   "name": "python",
   "nbconvert_exporter": "python",
   "pygments_lexer": "ipython3",
   "version": "3.10.3"
  }
 },
 "nbformat": 4,
 "nbformat_minor": 5
}
