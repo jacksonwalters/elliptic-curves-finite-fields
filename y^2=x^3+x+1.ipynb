{
 "cells": [
  {
   "cell_type": "code",
   "execution_count": 54,
   "id": "7217a94f",
   "metadata": {},
   "outputs": [],
   "source": [
    "E=EllipticCurve([0,0,0,1,1])"
   ]
  },
  {
   "cell_type": "code",
   "execution_count": 55,
   "id": "af8261d4",
   "metadata": {},
   "outputs": [
    {
     "data": {
      "text/plain": [
       "1"
      ]
     },
     "execution_count": 55,
     "metadata": {},
     "output_type": "execute_result"
    }
   ],
   "source": [
    "E.rank()"
   ]
  },
  {
   "cell_type": "code",
   "execution_count": 56,
   "id": "22beae19",
   "metadata": {},
   "outputs": [
    {
     "data": {
      "text/plain": [
       "[(0 : 1 : 0)]"
      ]
     },
     "execution_count": 56,
     "metadata": {},
     "output_type": "execute_result"
    }
   ],
   "source": [
    "E.torsion_points()"
   ]
  },
  {
   "cell_type": "code",
   "execution_count": 57,
   "id": "403e6cfa",
   "metadata": {},
   "outputs": [],
   "source": [
    "#curve is not smooth over F_2, so not elliptic\n",
    "#E2=EllipticCurve(GF(2), [0,0,0,1,1])"
   ]
  },
  {
   "cell_type": "code",
   "execution_count": 58,
   "id": "36267110",
   "metadata": {},
   "outputs": [],
   "source": [
    "#we can still compute the number of points over extensions F_2. \n",
    "#let's compute for fields where the exponent m of 2^m divides the exponent n of 2^n\n",
    "#find points of curve over extensions of F_2^1, e.g. F_2^2=4, F_2^4=16, F_2^5=32\n",
    "def g(x,y):\n",
    "    return y^2-x^3+x+1"
   ]
  },
  {
   "cell_type": "code",
   "execution_count": 59,
   "id": "8ad9061f",
   "metadata": {},
   "outputs": [
    {
     "data": {
      "text/plain": [
       "a"
      ]
     },
     "execution_count": 59,
     "metadata": {},
     "output_type": "execute_result"
    }
   ],
   "source": [
    "#arithmetic over field extensions of F_2\n",
    "P.<x> = PolynomialRing(GF(2))\n",
    "f = x^3 + x + 1 # Fano Polynomial\n",
    "k.<a> = GF(2^3, modulus=f)\n",
    "k.modulus()\n",
    "x^3+x+1\n",
    "a^(2^3)"
   ]
  },
  {
   "cell_type": "code",
   "execution_count": 60,
   "id": "894cbf80",
   "metadata": {},
   "outputs": [
    {
     "data": {
      "text/plain": [
       "[1, 1, 2, 2, 0, 1, a^2, a^2 + a, a^2 + 1]"
      ]
     },
     "execution_count": 60,
     "metadata": {},
     "output_type": "execute_result"
    }
   ],
   "source": [
    "#find zeros of f(x,y) over degree 3 field extension F_8 of F_2 \\isom F_2[x]/(x^3+x+1)\n",
    "[g(0,0),g(1,0),g(0,1),g(1,1),g(a,0),g(a,1),g(a,a),g(a,a^2),g(a,a^3)]"
   ]
  },
  {
   "cell_type": "code",
   "execution_count": 61,
   "id": "a82e8866",
   "metadata": {},
   "outputs": [
    {
     "data": {
      "text/plain": [
       "[(0, 0), (0, 7), (3, 2), (5, 1), (6, 4), (7, 0), (7, 7)]"
      ]
     },
     "execution_count": 61,
     "metadata": {},
     "output_type": "execute_result"
    }
   ],
   "source": [
    "#perform a grid search for points over F_8\n",
    "solutions_over_F_8 = []\n",
    "for i in range(8):\n",
    "    for j in range(8):\n",
    "        if g(a^i,a^j) == 0:\n",
    "            solutions_over_F_8.append((i,j))\n",
    "solutions_over_F_8"
   ]
  },
  {
   "cell_type": "code",
   "execution_count": 62,
   "id": "b1f05a34",
   "metadata": {},
   "outputs": [],
   "source": [
    "#evaluate curve over F_7\n",
    "E2=EllipticCurve(GF(7), [0,0,0,1,1])"
   ]
  },
  {
   "cell_type": "code",
   "execution_count": 63,
   "id": "9114ec91",
   "metadata": {},
   "outputs": [
    {
     "data": {
      "text/plain": [
       "5"
      ]
     },
     "execution_count": 63,
     "metadata": {},
     "output_type": "execute_result"
    }
   ],
   "source": [
    "#compute number of points\n",
    "E2.order()"
   ]
  },
  {
   "cell_type": "code",
   "execution_count": 64,
   "id": "687462f4",
   "metadata": {},
   "outputs": [],
   "source": [
    "#compute number of points over a Galois extension GF(7^2=49)\n",
    "E3=EllipticCurve(GF(49), [0,0,0,1,1])"
   ]
  },
  {
   "cell_type": "code",
   "execution_count": 65,
   "id": "f66f4010",
   "metadata": {},
   "outputs": [
    {
     "data": {
      "text/plain": [
       "55"
      ]
     },
     "execution_count": 65,
     "metadata": {},
     "output_type": "execute_result"
    }
   ],
   "source": [
    "#compute number of points over F_49\n",
    "E3.order()"
   ]
  },
  {
   "cell_type": "code",
   "execution_count": 66,
   "id": "0a904592",
   "metadata": {},
   "outputs": [],
   "source": [
    "#the Zeta function over F_7 is a rational function of T. What is it? Only need q^n for all n.\n",
    "#for algebraic closure of F_7, \\union_{m|n}F_7^m. Dylan Yott? Community seminar? Is this a bug?\n",
    "#dividing_exponents_seven = [7^1,7^2,7^4,7^8]\n",
    "#Rob: the number of points over 7^n are determined by the number of points over F_7, and \\alpha, \\beta\n",
    "number_of_points_over_extensions_of_F_7 = []\n",
    "for n in range(1,100):\n",
    "    number_of_points_over_extensions_of_F_7+=[EllipticCurve(GF(7^n), [0,0,0,1,1]).order()]"
   ]
  },
  {
   "cell_type": "code",
   "execution_count": 68,
   "id": "ff32d567",
   "metadata": {},
   "outputs": [],
   "source": [
    "#build the Zeta function for the finite field F_7 and the elliptic curve y^2=x^3+x+1\n",
    "#this is a rational function of T"
   ]
  },
  {
   "cell_type": "code",
   "execution_count": 69,
   "id": "83564e60",
   "metadata": {},
   "outputs": [],
   "source": [
    "#the shape of the Zeta function should be something like (1-\\alpha*T)*(1-\\beta*T)/((1-T)*(1-qT)) where\n",
    "#q is the order of the finite field of interest, for instance q=7^m. Setting m=1, we can look at q=7."
   ]
  },
  {
   "cell_type": "code",
   "execution_count": null,
   "id": "00b4dc4c",
   "metadata": {},
   "outputs": [],
   "source": []
  }
 ],
 "metadata": {
  "kernelspec": {
   "display_name": "SageMath 9.6",
   "language": "sage",
   "name": "sagemath-9.6"
  },
  "language_info": {
   "codemirror_mode": {
    "name": "ipython",
    "version": 3
   },
   "file_extension": ".py",
   "mimetype": "text/x-python",
   "name": "python",
   "nbconvert_exporter": "python",
   "pygments_lexer": "ipython3",
   "version": "3.10.3"
  }
 },
 "nbformat": 4,
 "nbformat_minor": 5
}
